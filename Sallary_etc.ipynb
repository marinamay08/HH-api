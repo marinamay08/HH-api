{
 "cells": [
  {
   "cell_type": "code",
   "execution_count": 1,
   "metadata": {},
   "outputs": [],
   "source": [
    "import requests\n",
    "import pandas as pd\n",
    "from collections import Counter\n",
    "import ast\n",
    "import datetime\n",
    "import pandas as pd\n",
    "import numpy as np\n",
    "import seaborn as sns\n",
    "import matplotlib as plt"
   ]
  },
  {
   "cell_type": "code",
   "execution_count": 2,
   "metadata": {},
   "outputs": [],
   "source": [
    "sns.set(\n",
    "    font_scale=2,\n",
    "    style=\"whitegrid\",\n",
    "    rc={'figure.figsize':(30,10)}\n",
    "        )"
   ]
  },
  {
   "cell_type": "code",
   "execution_count": 3,
   "metadata": {},
   "outputs": [],
   "source": [
    "#declaring variables\n",
    "\n",
    "job_title = ['NAME:(\"PHP разработчик\")'] #  add the vacancy we are interested in and the search field \n",
    "geo = ['113', '5', '40', '16'] #113 - Russia, 5 - Ukraine, 40 - Kazakhstan, 16 - Belarus"
   ]
  },
  {
   "cell_type": "code",
   "execution_count": 4,
   "metadata": {},
   "outputs": [
    {
     "name": "stdout",
     "output_type": "stream",
     "text": [
      "_forNO.csv\n"
     ]
    }
   ],
   "source": [
    "#for NO exp\n",
    "\n",
    "number_of_pages = 100\n",
    "\n",
    "for job in job_title:\n",
    "    data=[]\n",
    "    for i in range(number_of_pages):\n",
    "        url = 'https://api.hh.ru/vacancies'\n",
    "        par = {'text': job, 'area': geo, 'per_page':'20', 'page':i, 'experience': 'noExperience'}\n",
    "        r = requests.get(url, params=par)\n",
    "        e=r.json()\n",
    "        data.append(e)\n",
    "        vacancy_details = data[0]['items'][0].keys()\n",
    "        df = pd.DataFrame(columns= list(vacancy_details))\n",
    "        ind = 0\n",
    "        for i in range(len(data)):\n",
    "            for j in range(len(data[i]['items'])):\n",
    "                df.loc[ind] = data[i]['items'][j]\n",
    "                ind+=1\n",
    "    csv_name_NO =\"_forNO.csv\" #we can add a job title via .format (where name starts with '_') if the title is short\n",
    "\n",
    "    NO = df.to_csv(csv_name_NO)\n",
    "\n",
    "print(csv_name_NO)"
   ]
  },
  {
   "cell_type": "code",
   "execution_count": 5,
   "metadata": {},
   "outputs": [
    {
     "name": "stdout",
     "output_type": "stream",
     "text": [
      "1to3.csv\n"
     ]
    }
   ],
   "source": [
    "#for 1to3 exp\n",
    "\n",
    "number_of_pages = 100\n",
    "\n",
    "for job in job_title:\n",
    "    data=[]\n",
    "    for i in range(number_of_pages):\n",
    "        url = 'https://api.hh.ru/vacancies'\n",
    "        par = {'text': job, 'area': geo, 'per_page':'20', 'page':i, 'experience': 'between1And3'}\n",
    "        r = requests.get(url, params=par)\n",
    "        e=r.json()\n",
    "        data.append(e)\n",
    "        vacancy_details = data[0]['items'][0].keys()\n",
    "        df = pd.DataFrame(columns= list(vacancy_details))\n",
    "        ind = 0\n",
    "        for i in range(len(data)):\n",
    "            for j in range(len(data[i]['items'])):\n",
    "                df.loc[ind] = data[i]['items'][j]\n",
    "                ind+=1\n",
    "    csv_name_1to3 =\"_1to3.csv\"\n",
    "    df.to_csv(csv_name_1to3)\n",
    "\n",
    "print(csv_name_1to3)"
   ]
  },
  {
   "cell_type": "code",
   "execution_count": 6,
   "metadata": {},
   "outputs": [
    {
     "name": "stdout",
     "output_type": "stream",
     "text": [
      " 3to6.csv\n"
     ]
    }
   ],
   "source": [
    "#for 3to6 exp\n",
    "\n",
    "number_of_pages = 100\n",
    "\n",
    "for job in job_title:\n",
    "    data=[]\n",
    "    for i in range(number_of_pages):\n",
    "        url = 'https://api.hh.ru/vacancies'\n",
    "        par = {'text': job, 'area': geo, 'per_page':'20', 'page':i, 'experience': 'between3And6'}\n",
    "        r = requests.get(url, params=par)\n",
    "        e=r.json()\n",
    "        data.append(e)\n",
    "        vacancy_details = data[0]['items'][0].keys()\n",
    "        df = pd.DataFrame(columns= list(vacancy_details))\n",
    "        ind = 0\n",
    "        for i in range(len(data)):\n",
    "            for j in range(len(data[i]['items'])):\n",
    "                df.loc[ind] = data[i]['items'][j]\n",
    "                ind+=1\n",
    "    csv_name_3to6 = \"_3to6.csv\"\n",
    "    df.to_csv(csv_name_3to6)\n",
    "\n",
    "print(csv_name_3to6)"
   ]
  },
  {
   "cell_type": "code",
   "execution_count": 7,
   "metadata": {},
   "outputs": [
    {
     "name": "stdout",
     "output_type": "stream",
     "text": [
      " more6.csv\n"
     ]
    }
   ],
   "source": [
    "#for 6+ exp\n",
    "\n",
    "number_of_pages = 100\n",
    "\n",
    "for job in job_title:\n",
    "    data=[]\n",
    "    for i in range(number_of_pages):\n",
    "        url = 'https://api.hh.ru/vacancies'\n",
    "        par = {'text': job, 'area': geo, 'per_page':'20', 'page':i, 'experience': 'moreThan6'}\n",
    "        r = requests.get(url, params=par)\n",
    "        e=r.json()\n",
    "        data.append(e)\n",
    "        vacancy_details = data[0]['items'][0].keys()\n",
    "        df = pd.DataFrame(columns= list(vacancy_details))\n",
    "        ind = 0\n",
    "        for i in range(len(data)):\n",
    "            for j in range(len(data[i]['items'])):\n",
    "                df.loc[ind] = data[i]['items'][j]\n",
    "                ind+=1\n",
    "    csv_name_more6 = \"_more6.csv\"\n",
    "    df.to_csv(csv_name_more6)\n",
    "\n",
    "print(csv_name_more6)"
   ]
  },
  {
   "cell_type": "code",
   "execution_count": 8,
   "metadata": {},
   "outputs": [],
   "source": [
    "df_NO = pd.read_csv(csv_name_NO)\n",
    "df_NO['experience'] = 'before1'\n",
    "df_1to3 = pd.read_csv(csv_name_1to3)\n",
    "df_1to3['experience'] = 'between1And3'\n",
    "df_3to6 = pd.read_csv(csv_name_3to6)\n",
    "df_3to6['experience'] = 'between3And6'\n",
    "df_more6 = pd.read_csv(csv_name_more6)\n",
    "df_more6['experience'] = 'moreThan6' \n",
    "\n",
    "df = pd.concat([df_NO, df_1to3, df_3to6, df_more6]).reset_index()"
   ]
  },
  {
   "cell_type": "code",
   "execution_count": 9,
   "metadata": {},
   "outputs": [
    {
     "data": {
      "text/html": [
       "<div>\n",
       "<style scoped>\n",
       "    .dataframe tbody tr th:only-of-type {\n",
       "        vertical-align: middle;\n",
       "    }\n",
       "\n",
       "    .dataframe tbody tr th {\n",
       "        vertical-align: top;\n",
       "    }\n",
       "\n",
       "    .dataframe thead th {\n",
       "        text-align: right;\n",
       "    }\n",
       "</style>\n",
       "<table border=\"1\" class=\"dataframe\">\n",
       "  <thead>\n",
       "    <tr style=\"text-align: right;\">\n",
       "      <th></th>\n",
       "      <th>id</th>\n",
       "      <th>name</th>\n",
       "      <th>department</th>\n",
       "      <th>published_at</th>\n",
       "      <th>created_at</th>\n",
       "      <th>archived</th>\n",
       "      <th>contacts</th>\n",
       "      <th>schedule</th>\n",
       "      <th>experience</th>\n",
       "      <th>cities</th>\n",
       "      <th>salary_from</th>\n",
       "      <th>salary_to</th>\n",
       "      <th>currency</th>\n",
       "      <th>employer_brand</th>\n",
       "      <th>requirement</th>\n",
       "      <th>responsibility</th>\n",
       "      <th>salary_av</th>\n",
       "    </tr>\n",
       "  </thead>\n",
       "  <tbody>\n",
       "    <tr>\n",
       "      <th>0</th>\n",
       "      <td>41445276</td>\n",
       "      <td>PHP Developer</td>\n",
       "      <td>NaN</td>\n",
       "      <td>2021-03-02</td>\n",
       "      <td>2021-03-02</td>\n",
       "      <td>False</td>\n",
       "      <td>NaN</td>\n",
       "      <td>{'id': 'fullDay', 'name': 'Полный день'}</td>\n",
       "      <td>before1</td>\n",
       "      <td>Минск</td>\n",
       "      <td>1000.0</td>\n",
       "      <td>NaN</td>\n",
       "      <td>USD</td>\n",
       "      <td>ЭЛЕКТРОСИЛА, сеть магазинов</td>\n",
       "      <td>Уметь программировать на PHP(Native)+MySQL. Зн...</td>\n",
       "      <td>Программировать на РНР Native . Осуществлять т...</td>\n",
       "      <td>NaN</td>\n",
       "    </tr>\n",
       "    <tr>\n",
       "      <th>1</th>\n",
       "      <td>42488482</td>\n",
       "      <td>Начинающий PHP разработчик</td>\n",
       "      <td>NaN</td>\n",
       "      <td>2021-03-02</td>\n",
       "      <td>2021-03-02</td>\n",
       "      <td>False</td>\n",
       "      <td>NaN</td>\n",
       "      <td>{'id': 'fullDay', 'name': 'Полный день'}</td>\n",
       "      <td>before1</td>\n",
       "      <td>Пенза</td>\n",
       "      <td>40000.0</td>\n",
       "      <td>NaN</td>\n",
       "      <td>RUR</td>\n",
       "      <td>Информационные системы для бизнеса</td>\n",
       "      <td>Технологии: PHP, Java, NodeJS, Mysql, Elastics...</td>\n",
       "      <td>Изучение и применение новых, современных техно...</td>\n",
       "      <td>NaN</td>\n",
       "    </tr>\n",
       "    <tr>\n",
       "      <th>2</th>\n",
       "      <td>41719049</td>\n",
       "      <td>Backend php разработчик (Junior)</td>\n",
       "      <td>NaN</td>\n",
       "      <td>2021-03-02</td>\n",
       "      <td>2021-03-02</td>\n",
       "      <td>False</td>\n",
       "      <td>NaN</td>\n",
       "      <td>{'id': 'remote', 'name': 'Удаленная работа'}</td>\n",
       "      <td>before1</td>\n",
       "      <td>Уфа</td>\n",
       "      <td>50000.0</td>\n",
       "      <td>NaN</td>\n",
       "      <td>RUR</td>\n",
       "      <td>ИНТАС-Компани</td>\n",
       "      <td>Начинающий специалист ( без опыта - опыт 1 год...</td>\n",
       "      <td>None</td>\n",
       "      <td>NaN</td>\n",
       "    </tr>\n",
       "    <tr>\n",
       "      <th>3</th>\n",
       "      <td>41804136</td>\n",
       "      <td>Junior PHP-разработчик (full stack)</td>\n",
       "      <td>NaN</td>\n",
       "      <td>2021-03-05</td>\n",
       "      <td>2021-03-05</td>\n",
       "      <td>False</td>\n",
       "      <td>NaN</td>\n",
       "      <td>{'id': 'fullDay', 'name': 'Полный день'}</td>\n",
       "      <td>before1</td>\n",
       "      <td>Москва</td>\n",
       "      <td>120000.0</td>\n",
       "      <td>NaN</td>\n",
       "      <td>RUR</td>\n",
       "      <td>ЕВРОСЕРВИС</td>\n",
       "      <td>Высшее техническое образование. Умение разбира...</td>\n",
       "      <td>Анализ предметной области. Оптимизация и автом...</td>\n",
       "      <td>NaN</td>\n",
       "    </tr>\n",
       "    <tr>\n",
       "      <th>4</th>\n",
       "      <td>39802762</td>\n",
       "      <td>PHP-разработчик</td>\n",
       "      <td>NaN</td>\n",
       "      <td>2021-03-02</td>\n",
       "      <td>2021-03-02</td>\n",
       "      <td>False</td>\n",
       "      <td>NaN</td>\n",
       "      <td>{'id': 'fullDay', 'name': 'Полный день'}</td>\n",
       "      <td>before1</td>\n",
       "      <td>Москва</td>\n",
       "      <td>NaN</td>\n",
       "      <td>NaN</td>\n",
       "      <td>NaN</td>\n",
       "      <td>Group-IB</td>\n",
       "      <td>Хорошо знаешь PHP7. Знаешь JavaScript. Знаешь ...</td>\n",
       "      <td>Отдел занимается защитой цифрового контента: ф...</td>\n",
       "      <td>NaN</td>\n",
       "    </tr>\n",
       "  </tbody>\n",
       "</table>\n",
       "</div>"
      ],
      "text/plain": [
       "         id                                 name department published_at  \\\n",
       "0  41445276                        PHP Developer        NaN   2021-03-02   \n",
       "1  42488482           Начинающий PHP разработчик        NaN   2021-03-02   \n",
       "2  41719049     Backend php разработчик (Junior)        NaN   2021-03-02   \n",
       "3  41804136  Junior PHP-разработчик (full stack)        NaN   2021-03-05   \n",
       "4  39802762                      PHP-разработчик        NaN   2021-03-02   \n",
       "\n",
       "   created_at  archived  contacts  \\\n",
       "0  2021-03-02     False       NaN   \n",
       "1  2021-03-02     False       NaN   \n",
       "2  2021-03-02     False       NaN   \n",
       "3  2021-03-05     False       NaN   \n",
       "4  2021-03-02     False       NaN   \n",
       "\n",
       "                                       schedule experience  cities  \\\n",
       "0      {'id': 'fullDay', 'name': 'Полный день'}    before1   Минск   \n",
       "1      {'id': 'fullDay', 'name': 'Полный день'}    before1   Пенза   \n",
       "2  {'id': 'remote', 'name': 'Удаленная работа'}    before1     Уфа   \n",
       "3      {'id': 'fullDay', 'name': 'Полный день'}    before1  Москва   \n",
       "4      {'id': 'fullDay', 'name': 'Полный день'}    before1  Москва   \n",
       "\n",
       "   salary_from  salary_to currency                      employer_brand  \\\n",
       "0       1000.0        NaN      USD         ЭЛЕКТРОСИЛА, сеть магазинов   \n",
       "1      40000.0        NaN      RUR  Информационные системы для бизнеса   \n",
       "2      50000.0        NaN      RUR                       ИНТАС-Компани   \n",
       "3     120000.0        NaN      RUR                          ЕВРОСЕРВИС   \n",
       "4          NaN        NaN      NaN                            Group-IB   \n",
       "\n",
       "                                         requirement  \\\n",
       "0  Уметь программировать на PHP(Native)+MySQL. Зн...   \n",
       "1  Технологии: PHP, Java, NodeJS, Mysql, Elastics...   \n",
       "2  Начинающий специалист ( без опыта - опыт 1 год...   \n",
       "3  Высшее техническое образование. Умение разбира...   \n",
       "4  Хорошо знаешь PHP7. Знаешь JavaScript. Знаешь ...   \n",
       "\n",
       "                                      responsibility  salary_av  \n",
       "0  Программировать на РНР Native . Осуществлять т...        NaN  \n",
       "1  Изучение и применение новых, современных техно...        NaN  \n",
       "2                                               None        NaN  \n",
       "3  Анализ предметной области. Оптимизация и автом...        NaN  \n",
       "4  Отдел занимается защитой цифрового контента: ф...        NaN  "
      ]
     },
     "execution_count": 9,
     "metadata": {},
     "output_type": "execute_result"
    }
   ],
   "source": [
    "df.rename(columns={'Unnamed: 0': 'Index'}, inplace=True)\n",
    "df['cities'] = df.area.apply(eval).apply(lambda x : x['name'])\n",
    "df['salary_from'] = df.salary.dropna().apply(eval).apply(lambda x : x['from'])\n",
    "df['salary_to'] = df.salary.dropna().apply(eval).apply(lambda x : x['to'])\n",
    "df['currency'] = df.salary.dropna().apply(eval).apply(lambda x : x['currency'])\n",
    "df['employer_brand'] = df.employer.dropna().apply(eval).apply(lambda x : x['name'])\n",
    "df['requirement'] = df.snippet.dropna().apply(eval).apply(lambda x : x['requirement'])\n",
    "df['responsibility'] = df.snippet.dropna().apply(eval).apply(lambda x : x['responsibility'])\n",
    "df['salary_av'] = (df.salary_from+df.salary_to)/2\n",
    "df['published_at'] = pd.to_datetime(df.published_at)\n",
    "df['created_at'] = pd.to_datetime(df.created_at)\n",
    "df['published_at'] = df.published_at.dt.date\n",
    "df['created_at'] = df.created_at.dt.date\n",
    "\n",
    "df_cut = df.drop(columns=['index', 'Index', 'premium', 'response_letter_required', 'area', 'salary', 'type', 'address', 'response_url', 'sort_point_distance', 'employer', 'apply_alternate_url', 'insider_interview', 'url', 'alternate_url', 'relations', 'snippet', 'has_test', 'working_days', 'working_time_intervals', 'working_time_modes', 'accept_temporary'])\n",
    "df_cut.head()\n"
   ]
  },
  {
   "cell_type": "code",
   "execution_count": 10,
   "metadata": {},
   "outputs": [
    {
     "data": {
      "text/plain": [
       "(1580, 17)"
      ]
     },
     "execution_count": 10,
     "metadata": {},
     "output_type": "execute_result"
    }
   ],
   "source": [
    "df_cut.query(\"salary_from>0 and currency == 'RUR'\")\n",
    "df_cut.shape"
   ]
  },
  {
   "cell_type": "code",
   "execution_count": 11,
   "metadata": {},
   "outputs": [],
   "source": [
    "salary_from_per_city = df_cut.query(\"salary_from>0 and currency == 'RUR'\")\\\n",
    "    .groupby(['cities', 'experience'], as_index=False)\\\n",
    "    .agg({'id': 'count', 'salary_from': 'median'})\\\n",
    "    .sort_values('id', ascending=False)\\\n",
    "    .rename(columns={'id': 'vacancies_with_salary_from'})"
   ]
  },
  {
   "cell_type": "code",
   "execution_count": 12,
   "metadata": {},
   "outputs": [
    {
     "data": {
      "text/plain": [
       "724"
      ]
     },
     "execution_count": 12,
     "metadata": {},
     "output_type": "execute_result"
    }
   ],
   "source": [
    "salary_from_per_city.vacancies_with_salary_from.sum()"
   ]
  },
  {
   "cell_type": "code",
   "execution_count": 13,
   "metadata": {},
   "outputs": [],
   "source": [
    "# find the average for the lower limits of salaries (by city and by experience)\n",
    "\n",
    "salary_from_per_city = salary_from_per_city.pivot(index='cities', columns='experience', values=['vacancies_with_salary_from', 'salary_from'])\n",
    "salary_from_per_city.to_csv(\"_salary_from_per_city.csv\")"
   ]
  },
  {
   "cell_type": "code",
   "execution_count": 14,
   "metadata": {},
   "outputs": [],
   "source": [
    "salary_per_city = df_cut.query('currency == \"RUR\"')\\\n",
    "    .query('salary_av > 0')\\\n",
    "    .groupby(['cities', 'experience'], as_index=False)\\\n",
    "    .agg({'id': 'count', 'salary_av': 'median'})\\\n",
    "    .sort_values('id', ascending=False)\\\n",
    "    .rename(columns={'id': 'vacancies_with_salary'})"
   ]
  },
  {
   "cell_type": "code",
   "execution_count": 15,
   "metadata": {},
   "outputs": [],
   "source": [
    "# find the average of the average salaries (where the upper and lower bounds are indicated) by city and by experience\n",
    "\n",
    "salary_per_city = salary_per_city.pivot(index='cities', columns='experience', values=['vacancies_with_salary', 'salary_av'])\n",
    "\n",
    "salary_per_city.to_csv(\"_salary_per_city.csv\")"
   ]
  },
  {
   "cell_type": "code",
   "execution_count": 16,
   "metadata": {},
   "outputs": [],
   "source": [
    "# find the distribution of vacancies by city\n",
    "\n",
    "city = df_cut.groupby(['cities'], as_index=False)\\\n",
    "    .agg({'id': 'count'})\\\n",
    "    .sort_values('id', ascending=False)\\\n",
    "    .rename(columns={'id': 'vacancies'})\n",
    "\n",
    "city.to_csv(\"_city.csv\")"
   ]
  },
  {
   "cell_type": "code",
   "execution_count": 17,
   "metadata": {},
   "outputs": [],
   "source": [
    "# find the distribution of vacancies by experience\n",
    "\n",
    "\n",
    "exp = df_cut.groupby(['experience'], as_index=False)\\\n",
    "    .agg({'id': 'count'})\\\n",
    "    .sort_values('id', ascending=False)\\\n",
    "    .rename(columns={'id': 'vacancies'})\n",
    "\n",
    "exp.to_csv(\"_exp.csv\")"
   ]
  },
  {
   "cell_type": "code",
   "execution_count": 18,
   "metadata": {},
   "outputs": [],
   "source": [
    "# find the average of the average salaries (where the upper and lower bounds are indicated) by company and by experience\n",
    "\n",
    "\n",
    "salary_per_brand = df_cut.query('currency == \"RUR\"')\\\n",
    "    .query('salary_av > 0')\\\n",
    "    .groupby(['employer_brand', 'experience'], as_index=False)\\\n",
    "    .agg({'id': 'count', 'salary_av': 'median'})\\\n",
    "    .sort_values('id', ascending=False)\\\n",
    "    .rename(columns={'id': 'vacancies_with_salary'})"
   ]
  },
  {
   "cell_type": "code",
   "execution_count": 19,
   "metadata": {},
   "outputs": [],
   "source": [
    "salary_per_brand = salary_per_brand.pivot(index='employer_brand', columns='experience', values=['vacancies_with_salary', 'salary_av'])\n",
    "\n",
    "salary_per_brand.to_csv(\"_salary_per_brand.csv\")"
   ]
  },
  {
   "cell_type": "code",
   "execution_count": 20,
   "metadata": {},
   "outputs": [],
   "source": [
    "# find the distribution of vacancies by company\n",
    "\n",
    "brand = df_cut.groupby(['employer_brand'], as_index=False)\\\n",
    "    .agg({'id': 'count'})\\\n",
    "    .sort_values('id', ascending=False)\\\n",
    "    .rename(columns={'id': 'vacancies'})\n",
    "\n",
    "brand.to_csv(\"_brand.csv\")"
   ]
  },
  {
   "cell_type": "code",
   "execution_count": 21,
   "metadata": {},
   "outputs": [],
   "source": [
    "# find the most common words from responsibility - part \n",
    "\n",
    "df_cut['responsibility'] = df_cut['responsibility'].astype('str')"
   ]
  },
  {
   "cell_type": "code",
   "execution_count": 22,
   "metadata": {},
   "outputs": [],
   "source": [
    "most_common_words_responsibility_NO = pd.Series(' '.join(df_cut.query('experience == \"before1\"').responsibility).lower().split()).value_counts()[:100]\n",
    "most_common_words_responsibility_1to3 = pd.Series(' '.join(df_cut.query('experience == \"between1And3\"').responsibility).lower().split()).value_counts()[:100]\n",
    "most_common_words_responsibility_3to6 = pd.Series(' '.join(df_cut.query('experience == \"between3And6\"').responsibility).lower().split()).value_counts()[:100]\n",
    "most_common_words_responsibility_more6 = pd.Series(' '.join(df_cut.query('experience == \"moreThan6\"').responsibility).lower().split()).value_counts()[:100]\n",
    "\n"
   ]
  },
  {
   "cell_type": "code",
   "execution_count": 23,
   "metadata": {},
   "outputs": [],
   "source": [
    "most_common_words_responsibility_NO_pd = pd.DataFrame(most_common_words_responsibility_NO)\n",
    "most_common_words_responsibility_NO_pd['experience'] = 'before1'\n",
    "\n",
    "most_common_words_responsibility_1to3_pd = pd.DataFrame(most_common_words_responsibility_1to3)\n",
    "most_common_words_responsibility_1to3_pd['experience'] = 'between1And3'\n",
    "\n",
    "most_common_words_responsibility_3to6_pd = pd.DataFrame(most_common_words_responsibility_3to6)\n",
    "most_common_words_responsibility_3to6_pd['experience'] = 'between3And6'\n",
    "\n",
    "most_common_words_responsibility_more6_pd = pd.DataFrame(most_common_words_responsibility_more6)\n",
    "most_common_words_responsibility_more6_pd['experience'] = 'moreThan6'"
   ]
  },
  {
   "cell_type": "code",
   "execution_count": 24,
   "metadata": {},
   "outputs": [],
   "source": [
    "most_common_words_responsibility_pd = pd.concat([most_common_words_responsibility_NO_pd, most_common_words_responsibility_1to3_pd, most_common_words_responsibility_3to6_pd, most_common_words_responsibility_more6_pd])\\\n",
    "    .reset_index()\\\n",
    "    .replace(',', '')\\\n",
    "    .replace('.', '')\\\n",
    "    .replace('(', '')\\\n",
    "    .replace(')', '')\\\n",
    "    .replace('<highlighttext>', '')\\\n",
    "    .replace('</highlighttext>', '')\\\n",
    "    .replace('<highlighttext>', '')\\\n",
    "    .query('index != \"и\" and index != \"для\" and index != \"в\" and index != \"с\" and index != \"на\" and index != \"по\" and index != \"-\" and index != \"and\" and index != \"of\" and index != \"in\" and index != \"the\" and index != \"with\" and index != \"to\"')\\\n",
    "    .sort_values(0, ascending=False)\\\n",
    "    .rename(columns={0: 'frecuency'})\\\n",
    "    .head(150)\\\n"
   ]
  },
  {
   "cell_type": "code",
   "execution_count": 25,
   "metadata": {},
   "outputs": [],
   "source": [
    "most_common_words_responsibility_pivot = most_common_words_responsibility_pd.pivot_table(index= 'index', columns= 'experience', values= 'frecuency')\n",
    "\n",
    "most_common_words_responsibility_pivot.to_csv(\"_pivot_responsibility.csv\")"
   ]
  },
  {
   "cell_type": "code",
   "execution_count": 26,
   "metadata": {},
   "outputs": [],
   "source": [
    "# investigate the distribution of vacancies by publication dates\n",
    "\n",
    "published_at = df_cut.groupby(['published_at'], as_index=False)\\\n",
    "    .agg({'id': 'count'})\\\n",
    "    .sort_values('published_at', ascending=True)\\\n",
    "    .rename(columns={'id': 'vacancies'})\n"
   ]
  },
  {
   "cell_type": "code",
   "execution_count": 27,
   "metadata": {},
   "outputs": [
    {
     "data": {
      "text/plain": [
       "[Text(0, 0.5, 'количество вакансий\\n'), Text(0.5, 0, '\\nпубликация вакансии')]"
      ]
     },
     "execution_count": 27,
     "metadata": {},
     "output_type": "execute_result"
    },
    {
     "data": {
      "image/png": "[encoded data removed]",
      "text/plain": [
       "<Figure size 2160x720 with 1 Axes>"
      ]
     },
     "metadata": {},
     "output_type": "display_data"
    }
   ],
   "source": [
    "chart = sns.barplot(data=published_at, x=\"published_at\", y=\"vacancies\", palette=sns.color_palette('Blues', n_colors=7),)\n",
    "chart.set_xticklabels(chart.get_xticklabels(), rotation=45, horizontalalignment='right')\n",
    "chart.set(xlabel='\\nпубликация вакансий', ylabel='количество вакансий\\n') # we can copy this graph\n"
   ]
  },
  {
   "cell_type": "code",
   "execution_count": 28,
   "metadata": {},
   "outputs": [
    {
     "data": {
      "text/html": [
       "<div>\n",
       "<style scoped>\n",
       "    .dataframe tbody tr th:only-of-type {\n",
       "        vertical-align: middle;\n",
       "    }\n",
       "\n",
       "    .dataframe tbody tr th {\n",
       "        vertical-align: top;\n",
       "    }\n",
       "\n",
       "    .dataframe thead th {\n",
       "        text-align: right;\n",
       "    }\n",
       "</style>\n",
       "<table border=\"1\" class=\"dataframe\">\n",
       "  <thead>\n",
       "    <tr style=\"text-align: right;\">\n",
       "      <th></th>\n",
       "      <th>published_at</th>\n",
       "      <th>vacancies</th>\n",
       "    </tr>\n",
       "  </thead>\n",
       "  <tbody>\n",
       "    <tr>\n",
       "      <th>0</th>\n",
       "      <td>2021-02-03</td>\n",
       "      <td>13</td>\n",
       "    </tr>\n",
       "    <tr>\n",
       "      <th>1</th>\n",
       "      <td>2021-02-04</td>\n",
       "      <td>29</td>\n",
       "    </tr>\n",
       "    <tr>\n",
       "      <th>2</th>\n",
       "      <td>2021-02-05</td>\n",
       "      <td>26</td>\n",
       "    </tr>\n",
       "    <tr>\n",
       "      <th>3</th>\n",
       "      <td>2021-02-06</td>\n",
       "      <td>5</td>\n",
       "    </tr>\n",
       "    <tr>\n",
       "      <th>4</th>\n",
       "      <td>2021-02-07</td>\n",
       "      <td>3</td>\n",
       "    </tr>\n",
       "    <tr>\n",
       "      <th>5</th>\n",
       "      <td>2021-02-08</td>\n",
       "      <td>68</td>\n",
       "    </tr>\n",
       "    <tr>\n",
       "      <th>6</th>\n",
       "      <td>2021-02-09</td>\n",
       "      <td>39</td>\n",
       "    </tr>\n",
       "    <tr>\n",
       "      <th>7</th>\n",
       "      <td>2021-02-10</td>\n",
       "      <td>39</td>\n",
       "    </tr>\n",
       "    <tr>\n",
       "      <th>8</th>\n",
       "      <td>2021-02-11</td>\n",
       "      <td>43</td>\n",
       "    </tr>\n",
       "    <tr>\n",
       "      <th>9</th>\n",
       "      <td>2021-02-12</td>\n",
       "      <td>30</td>\n",
       "    </tr>\n",
       "    <tr>\n",
       "      <th>10</th>\n",
       "      <td>2021-02-13</td>\n",
       "      <td>5</td>\n",
       "    </tr>\n",
       "    <tr>\n",
       "      <th>11</th>\n",
       "      <td>2021-02-14</td>\n",
       "      <td>6</td>\n",
       "    </tr>\n",
       "    <tr>\n",
       "      <th>12</th>\n",
       "      <td>2021-02-15</td>\n",
       "      <td>37</td>\n",
       "    </tr>\n",
       "    <tr>\n",
       "      <th>13</th>\n",
       "      <td>2021-02-16</td>\n",
       "      <td>54</td>\n",
       "    </tr>\n",
       "    <tr>\n",
       "      <th>14</th>\n",
       "      <td>2021-02-17</td>\n",
       "      <td>40</td>\n",
       "    </tr>\n",
       "    <tr>\n",
       "      <th>15</th>\n",
       "      <td>2021-02-18</td>\n",
       "      <td>43</td>\n",
       "    </tr>\n",
       "    <tr>\n",
       "      <th>16</th>\n",
       "      <td>2021-02-19</td>\n",
       "      <td>33</td>\n",
       "    </tr>\n",
       "    <tr>\n",
       "      <th>17</th>\n",
       "      <td>2021-02-20</td>\n",
       "      <td>44</td>\n",
       "    </tr>\n",
       "    <tr>\n",
       "      <th>18</th>\n",
       "      <td>2021-02-21</td>\n",
       "      <td>10</td>\n",
       "    </tr>\n",
       "    <tr>\n",
       "      <th>19</th>\n",
       "      <td>2021-02-22</td>\n",
       "      <td>14</td>\n",
       "    </tr>\n",
       "    <tr>\n",
       "      <th>20</th>\n",
       "      <td>2021-02-23</td>\n",
       "      <td>92</td>\n",
       "    </tr>\n",
       "    <tr>\n",
       "      <th>21</th>\n",
       "      <td>2021-02-24</td>\n",
       "      <td>59</td>\n",
       "    </tr>\n",
       "    <tr>\n",
       "      <th>22</th>\n",
       "      <td>2021-02-25</td>\n",
       "      <td>59</td>\n",
       "    </tr>\n",
       "    <tr>\n",
       "      <th>23</th>\n",
       "      <td>2021-02-26</td>\n",
       "      <td>57</td>\n",
       "    </tr>\n",
       "    <tr>\n",
       "      <th>24</th>\n",
       "      <td>2021-02-27</td>\n",
       "      <td>10</td>\n",
       "    </tr>\n",
       "    <tr>\n",
       "      <th>25</th>\n",
       "      <td>2021-02-28</td>\n",
       "      <td>6</td>\n",
       "    </tr>\n",
       "    <tr>\n",
       "      <th>26</th>\n",
       "      <td>2021-03-01</td>\n",
       "      <td>93</td>\n",
       "    </tr>\n",
       "    <tr>\n",
       "      <th>27</th>\n",
       "      <td>2021-03-02</td>\n",
       "      <td>146</td>\n",
       "    </tr>\n",
       "    <tr>\n",
       "      <th>28</th>\n",
       "      <td>2021-03-03</td>\n",
       "      <td>167</td>\n",
       "    </tr>\n",
       "    <tr>\n",
       "      <th>29</th>\n",
       "      <td>2021-03-04</td>\n",
       "      <td>208</td>\n",
       "    </tr>\n",
       "    <tr>\n",
       "      <th>30</th>\n",
       "      <td>2021-03-05</td>\n",
       "      <td>102</td>\n",
       "    </tr>\n",
       "  </tbody>\n",
       "</table>\n",
       "</div>"
      ],
      "text/plain": [
       "   published_at  vacancies\n",
       "0    2021-02-03         13\n",
       "1    2021-02-04         29\n",
       "2    2021-02-05         26\n",
       "3    2021-02-06          5\n",
       "4    2021-02-07          3\n",
       "5    2021-02-08         68\n",
       "6    2021-02-09         39\n",
       "7    2021-02-10         39\n",
       "8    2021-02-11         43\n",
       "9    2021-02-12         30\n",
       "10   2021-02-13          5\n",
       "11   2021-02-14          6\n",
       "12   2021-02-15         37\n",
       "13   2021-02-16         54\n",
       "14   2021-02-17         40\n",
       "15   2021-02-18         43\n",
       "16   2021-02-19         33\n",
       "17   2021-02-20         44\n",
       "18   2021-02-21         10\n",
       "19   2021-02-22         14\n",
       "20   2021-02-23         92\n",
       "21   2021-02-24         59\n",
       "22   2021-02-25         59\n",
       "23   2021-02-26         57\n",
       "24   2021-02-27         10\n",
       "25   2021-02-28          6\n",
       "26   2021-03-01         93\n",
       "27   2021-03-02        146\n",
       "28   2021-03-03        167\n",
       "29   2021-03-04        208\n",
       "30   2021-03-05        102"
      ]
     },
     "execution_count": 28,
     "metadata": {},
     "output_type": "execute_result"
    }
   ],
   "source": [
    "published_at"
   ]
  },
  {
   "cell_type": "code",
   "execution_count": null,
   "metadata": {},
   "outputs": [],
   "source": []
  }
 ],
 "metadata": {
  "kernelspec": {
   "display_name": "Python 3",
   "language": "python",
   "name": "python3"
  },
  "language_info": {
   "codemirror_mode": {
    "name": "ipython",
    "version": 3
   },
   "file_extension": ".py",
   "mimetype": "text/x-python",
   "name": "python",
   "nbconvert_exporter": "python",
   "pygments_lexer": "ipython3",
   "version": "3.7.6"
  }
 },
 "nbformat": 4,
 "nbformat_minor": 4
}
